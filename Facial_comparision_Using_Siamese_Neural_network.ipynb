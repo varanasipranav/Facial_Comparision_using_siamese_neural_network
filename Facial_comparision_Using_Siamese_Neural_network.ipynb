{
 "cells": [
  {
   "cell_type": "markdown",
   "id": "ba3b7ad6",
   "metadata": {},
   "source": [
    "### Installing Dependencies"
   ]
  },
  {
   "cell_type": "code",
   "execution_count": 1,
   "id": "12533769",
   "metadata": {
    "scrolled": true
   },
   "outputs": [
    {
     "name": "stdout",
     "output_type": "stream",
     "text": [
      "Requirement already satisfied: mtcnn in c:\\users\\hp\\anaconda3\\envs\\tf1\\lib\\site-packages (0.1.1)\n",
      "Requirement already satisfied: opencv-python>=4.1.0 in c:\\users\\hp\\anaconda3\\envs\\tf1\\lib\\site-packages (from mtcnn) (4.6.0.66)\n",
      "Requirement already satisfied: keras>=2.0.0 in c:\\users\\hp\\anaconda3\\envs\\tf1\\lib\\site-packages (from mtcnn) (2.10.0)\n",
      "Requirement already satisfied: numpy>=1.14.5 in c:\\users\\hp\\anaconda3\\envs\\tf1\\lib\\site-packages (from opencv-python>=4.1.0->mtcnn) (1.23.3)\n"
     ]
    }
   ],
   "source": [
    "!pip install mtcnn\n"
   ]
  },
  {
   "cell_type": "code",
   "execution_count": 1,
   "id": "d0679a50",
   "metadata": {},
   "outputs": [
    {
     "name": "stdout",
     "output_type": "stream",
     "text": [
      "Note: you may need to restart the kernel to use updated packages.\n"
     ]
    },
    {
     "name": "stderr",
     "output_type": "stream",
     "text": [
      "WARNING: Retrying (Retry(total=4, connect=None, read=None, redirect=None, status=None)) after connection broken by 'NewConnectionError('<pip._vendor.urllib3.connection.HTTPSConnection object at 0x0000021A1944C250>: Failed to establish a new connection: [Errno 11001] getaddrinfo failed')': /simple/tensorflow-addons/\n",
      "WARNING: Retrying (Retry(total=3, connect=None, read=None, redirect=None, status=None)) after connection broken by 'NewConnectionError('<pip._vendor.urllib3.connection.HTTPSConnection object at 0x0000021A1944C580>: Failed to establish a new connection: [Errno 11001] getaddrinfo failed')': /simple/tensorflow-addons/\n",
      "WARNING: Retrying (Retry(total=2, connect=None, read=None, redirect=None, status=None)) after connection broken by 'NewConnectionError('<pip._vendor.urllib3.connection.HTTPSConnection object at 0x0000021A1944C8B0>: Failed to establish a new connection: [Errno 11001] getaddrinfo failed')': /simple/tensorflow-addons/\n",
      "WARNING: Retrying (Retry(total=1, connect=None, read=None, redirect=None, status=None)) after connection broken by 'NewConnectionError('<pip._vendor.urllib3.connection.HTTPSConnection object at 0x0000021A1944CA60>: Failed to establish a new connection: [Errno 11001] getaddrinfo failed')': /simple/tensorflow-addons/\n",
      "WARNING: Retrying (Retry(total=0, connect=None, read=None, redirect=None, status=None)) after connection broken by 'NewConnectionError('<pip._vendor.urllib3.connection.HTTPSConnection object at 0x0000021A1944CC10>: Failed to establish a new connection: [Errno 11001] getaddrinfo failed')': /simple/tensorflow-addons/\n",
      "WARNING: There was an error checking the latest version of pip.\n"
     ]
    }
   ],
   "source": [
    "pip install -q -U tensorflow-addons"
   ]
  },
  {
   "cell_type": "code",
   "execution_count": 2,
   "id": "188acfef",
   "metadata": {},
   "outputs": [],
   "source": [
    "import cv2\n",
    "import os\n",
    "import random\n",
    "import numpy as np\n",
    "import seaborn as sns\n",
    "from matplotlib import pyplot as plt \n",
    "from mtcnn.mtcnn import MTCNN\n",
    "import uuid\n",
    "import tensorflow_addons as tfa\n",
    "from tensorflow.keras.metrics import Precision,Recall"
   ]
  },
  {
   "cell_type": "code",
   "execution_count": 3,
   "id": "3364d66a",
   "metadata": {},
   "outputs": [],
   "source": [
    "from tensorflow.keras.models import Model\n",
    "from tensorflow.keras.layers import Layer,Conv2D,Dense,MaxPooling2D,Input,Flatten\n",
    "import tensorflow as tf\n",
    "import keras"
   ]
  },
  {
   "cell_type": "code",
   "execution_count": 4,
   "id": "18634205",
   "metadata": {},
   "outputs": [
    {
     "name": "stdout",
     "output_type": "stream",
     "text": [
      "[PhysicalDevice(name='/physical_device:GPU:0', device_type='GPU')]\n"
     ]
    }
   ],
   "source": [
    "gpus=tf.config.experimental.list_physical_devices('GPU')\n",
    "for gpu in gpus:\n",
    "    tf.config.experimental.set_memory_growth(gpu,True)\n",
    "print(gpus)"
   ]
  },
  {
   "cell_type": "code",
   "execution_count": 5,
   "id": "3e74c826",
   "metadata": {},
   "outputs": [],
   "source": [
    "P_path=os.path.join('data','positive')\n",
    "N_path=os.path.join('data','negitive')\n",
    "A_path=os.path.join('data','anchor')"
   ]
  },
  {
   "cell_type": "code",
   "execution_count": 22,
   "id": "f7833abc",
   "metadata": {},
   "outputs": [
    {
     "ename": "FileExistsError",
     "evalue": "[WinError 183] Cannot create a file when that file already exists: 'data\\\\positive'",
     "output_type": "error",
     "traceback": [
      "\u001b[1;31m---------------------------------------------------------------------------\u001b[0m",
      "\u001b[1;31mFileExistsError\u001b[0m                           Traceback (most recent call last)",
      "Cell \u001b[1;32mIn [22], line 4\u001b[0m\n\u001b[0;32m      2\u001b[0m N_path\u001b[38;5;241m=\u001b[39mos\u001b[38;5;241m.\u001b[39mpath\u001b[38;5;241m.\u001b[39mjoin(\u001b[38;5;124m'\u001b[39m\u001b[38;5;124mdata\u001b[39m\u001b[38;5;124m'\u001b[39m,\u001b[38;5;124m'\u001b[39m\u001b[38;5;124mnegitive\u001b[39m\u001b[38;5;124m'\u001b[39m)\n\u001b[0;32m      3\u001b[0m A_path\u001b[38;5;241m=\u001b[39mos\u001b[38;5;241m.\u001b[39mpath\u001b[38;5;241m.\u001b[39mjoin(\u001b[38;5;124m'\u001b[39m\u001b[38;5;124mdata\u001b[39m\u001b[38;5;124m'\u001b[39m,\u001b[38;5;124m'\u001b[39m\u001b[38;5;124manchor\u001b[39m\u001b[38;5;124m'\u001b[39m)\n\u001b[1;32m----> 4\u001b[0m \u001b[43mos\u001b[49m\u001b[38;5;241;43m.\u001b[39;49m\u001b[43mmakedirs\u001b[49m\u001b[43m(\u001b[49m\u001b[43mP_path\u001b[49m\u001b[43m)\u001b[49m\n\u001b[0;32m      5\u001b[0m os\u001b[38;5;241m.\u001b[39mmakedirs(N_path)\n\u001b[0;32m      6\u001b[0m os\u001b[38;5;241m.\u001b[39mmakedirs(A_path)\n",
      "File \u001b[1;32m~\\anaconda3\\envs\\tf1\\lib\\os.py:225\u001b[0m, in \u001b[0;36mmakedirs\u001b[1;34m(name, mode, exist_ok)\u001b[0m\n\u001b[0;32m    223\u001b[0m         \u001b[38;5;28;01mreturn\u001b[39;00m\n\u001b[0;32m    224\u001b[0m \u001b[38;5;28;01mtry\u001b[39;00m:\n\u001b[1;32m--> 225\u001b[0m     \u001b[43mmkdir\u001b[49m\u001b[43m(\u001b[49m\u001b[43mname\u001b[49m\u001b[43m,\u001b[49m\u001b[43m \u001b[49m\u001b[43mmode\u001b[49m\u001b[43m)\u001b[49m\n\u001b[0;32m    226\u001b[0m \u001b[38;5;28;01mexcept\u001b[39;00m \u001b[38;5;167;01mOSError\u001b[39;00m:\n\u001b[0;32m    227\u001b[0m     \u001b[38;5;66;03m# Cannot rely on checking for EEXIST, since the operating system\u001b[39;00m\n\u001b[0;32m    228\u001b[0m     \u001b[38;5;66;03m# could give priority to other errors like EACCES or EROFS\u001b[39;00m\n\u001b[0;32m    229\u001b[0m     \u001b[38;5;28;01mif\u001b[39;00m \u001b[38;5;129;01mnot\u001b[39;00m exist_ok \u001b[38;5;129;01mor\u001b[39;00m \u001b[38;5;129;01mnot\u001b[39;00m path\u001b[38;5;241m.\u001b[39misdir(name):\n",
      "\u001b[1;31mFileExistsError\u001b[0m: [WinError 183] Cannot create a file when that file already exists: 'data\\\\positive'"
     ]
    }
   ],
   "source": [
    "P_path=os.path.join('data','positive')\n",
    "N_path=os.path.join('data','negitive')\n",
    "A_path=os.path.join('data','anchor')\n",
    "os.makedirs(P_path)\n",
    "os.makedirs(N_path)\n",
    "os.makedirs(A_path)"
   ]
  },
  {
   "cell_type": "code",
   "execution_count": 7,
   "id": "6fa5d760",
   "metadata": {},
   "outputs": [],
   "source": [
    "!tar -xf lfw.tgz"
   ]
  },
  {
   "cell_type": "code",
   "execution_count": 8,
   "id": "adef4519",
   "metadata": {},
   "outputs": [],
   "source": [
    "for directory in os.listdir('lfw'):\n",
    "    for file in os.listdir(os.path.join('lfw',directory)):\n",
    "        OLD_PATH=os.path.join('lfw',directory,file)\n",
    "        NEW_PATH=os.path.join(N_path,file)\n",
    "        os.replace(OLD_PATH,NEW_PATH)"
   ]
  },
  {
   "cell_type": "code",
   "execution_count": 6,
   "id": "14d6e8d5",
   "metadata": {},
   "outputs": [],
   "source": [
    "detector=MTCNN()\n",
    "def exface(image):\n",
    "    resize=(250,250)\n",
    "    faces=detector.detect_faces(image)\n",
    "    x,y,w,h=faces[0]['box']\n",
    "    x1=x+w\n",
    "    y1=y+h\n",
    "    face_boundary=image[y:y1,x:x1]\n",
    "    ex_face=cv2.resize(face_boundary,resize)\n",
    "    return ex_face"
   ]
  },
  {
   "cell_type": "code",
   "execution_count": null,
   "id": "4ffff69f",
   "metadata": {},
   "outputs": [],
   "source": [
    "\n",
    "cap=cv2.VideoCapture(0)\n",
    "while cap.isOpened():\n",
    "    ret,frame=cap.read()\n",
    "    \n",
    "    frame=exface(frame)\n",
    "    cv2.imshow(\"Image Collection\",frame)\n",
    "    if cv2.waitKey(1) & 0XFF==ord('a'):\n",
    "        imgname=os.path.join(A_path,'{}.jpg'.format(uuid.uuid1()))\n",
    "        cv2.imwrite(imgname,frame)\n",
    "    if cv2.waitKey(1) & 0XFF==ord('p'):\n",
    "        imgname=os.path.join(P_path,'{}.jpg'.format(uuid.uuid1()))\n",
    "        cv2.imwrite(imgname,frame)\n",
    "    if cv2.waitKey(1) & 0XFF==ord('q'):\n",
    "        break\n",
    "cap.release()\n",
    "cv2.destroyAllWindows()"
   ]
  },
  {
   "cell_type": "code",
   "execution_count": 7,
   "id": "26c83311",
   "metadata": {},
   "outputs": [
    {
     "ename": "FileNotFoundError",
     "evalue": "[WinError 3] The system cannot find the path specified: 'C:/Users/hp/data/neg'",
     "output_type": "error",
     "traceback": [
      "\u001b[1;31m---------------------------------------------------------------------------\u001b[0m",
      "\u001b[1;31mFileNotFoundError\u001b[0m                         Traceback (most recent call last)",
      "Cell \u001b[1;32mIn [7], line 3\u001b[0m\n\u001b[0;32m      1\u001b[0m negitive_dir\u001b[38;5;241m=\u001b[39m\u001b[38;5;124m\"\u001b[39m\u001b[38;5;124mC:/Users/hp/data/neg\u001b[39m\u001b[38;5;124m\"\u001b[39m\n\u001b[0;32m      2\u001b[0m pp\u001b[38;5;241m=\u001b[39m\u001b[38;5;124m\"\u001b[39m\u001b[38;5;124mC:/Users/hp/data/fac2\u001b[39m\u001b[38;5;124m\"\u001b[39m\n\u001b[1;32m----> 3\u001b[0m \u001b[38;5;28;01mfor\u001b[39;00m file \u001b[38;5;129;01min\u001b[39;00m \u001b[43mos\u001b[49m\u001b[38;5;241;43m.\u001b[39;49m\u001b[43mlistdir\u001b[49m\u001b[43m(\u001b[49m\u001b[43mnegitive_dir\u001b[49m\u001b[43m)\u001b[49m:\n\u001b[0;32m      4\u001b[0m     \u001b[38;5;28;01mtry\u001b[39;00m:\n\u001b[0;32m      6\u001b[0m         pic_dir\u001b[38;5;241m=\u001b[39mos\u001b[38;5;241m.\u001b[39mpath\u001b[38;5;241m.\u001b[39mjoin(negitive_dir,file)\n",
      "\u001b[1;31mFileNotFoundError\u001b[0m: [WinError 3] The system cannot find the path specified: 'C:/Users/hp/data/neg'"
     ]
    }
   ],
   "source": [
    "\n",
    "    negitive_dir=\"C:/Users/hp/data/neg\"\n",
    "    pp=\"C:/Users/hp/data/fac2\"\n",
    "    for file in os.listdir(negitive_dir):\n",
    "        try:\n",
    "            \n",
    "            pic_dir=os.path.join(negitive_dir,file)\n",
    "            pic=cv2.imread(pic_dir)\n",
    "            face_pic=exface(pic)\n",
    "            imgname=os.path.join(pp,'{}.jpg'.format(uuid.uuid1()))\n",
    "            cv2.imwrite(imgname,face_pic)\n",
    "            os.remove(pic_dir)\n",
    "        except Exception:\n",
    "            continue"
   ]
  },
  {
   "cell_type": "code",
   "execution_count": 16,
   "id": "44db065e",
   "metadata": {},
   "outputs": [],
   "source": [
    "anchor = tf.data.Dataset.list_files(A_path+ '\\*.jpg').take(300)\n",
    "positive = tf.data.Dataset.list_files(P_path+ '\\*.jpg').take(300)\n",
    "negative = tf.data.Dataset.list_files(N_path+ '\\*.jpg').take(300)"
   ]
  },
  {
   "cell_type": "code",
   "execution_count": 17,
   "id": "6487990d",
   "metadata": {},
   "outputs": [],
   "source": [
    "def preprocess(path):\n",
    "    byte_img=tf.io.read_file(path)\n",
    "    img=tf.io.decode_jpeg(byte_img)\n",
    "    img=tf.image.resize(img,(105,105))\n",
    "    img=img/255.0\n",
    "    return img   "
   ]
  },
  {
   "cell_type": "code",
   "execution_count": 18,
   "id": "cae8bc45",
   "metadata": {},
   "outputs": [],
   "source": [
    "positives=tf.data.Dataset.zip((anchor,positive,tf.data.Dataset.from_tensor_slices(tf.ones(len(anchor)))))\n",
    "negitives=tf.data.Dataset.zip((anchor,negative,tf.data.Dataset.from_tensor_slices(tf.zeros(len(anchor)))))\n",
    "data=positives.concatenate(negitives)"
   ]
  },
  {
   "cell_type": "code",
   "execution_count": 19,
   "id": "0ef55d83",
   "metadata": {},
   "outputs": [],
   "source": [
    "samples=data.as_numpy_iterator()\n",
    "example=samples.next()"
   ]
  },
  {
   "cell_type": "code",
   "execution_count": 20,
   "id": "3c229cb8",
   "metadata": {},
   "outputs": [],
   "source": [
    "def prep(input_img,validation_img,label):\n",
    "    return (preprocess(input_img),preprocess(validation_img),label) "
   ]
  },
  {
   "cell_type": "code",
   "execution_count": 21,
   "id": "f12ce6f1",
   "metadata": {
    "scrolled": true
   },
   "outputs": [
    {
     "data": {
      "text/plain": [
       "<tf.Tensor: shape=(105, 105, 3), dtype=float32, numpy=\n",
       "array([[[0.12362056, 0.13146369, 0.11969899],\n",
       "        [0.1093304 , 0.11717354, 0.10540883],\n",
       "        [0.09747899, 0.10532213, 0.09000934],\n",
       "        ...,\n",
       "        [0.1254902 , 0.10588235, 0.09411765],\n",
       "        [0.1254902 , 0.10588235, 0.09411765],\n",
       "        [0.12670402, 0.10709617, 0.09533147]],\n",
       "\n",
       "       [[0.10540883, 0.12473656, 0.10989062],\n",
       "        [0.10476191, 0.11318528, 0.10192077],\n",
       "        [0.09745231, 0.10575563, 0.09383754],\n",
       "        ...,\n",
       "        [0.12346938, 0.10616247, 0.09396425],\n",
       "        [0.12156863, 0.10616247, 0.09383754],\n",
       "        [0.1254902 , 0.11008403, 0.09775911]],\n",
       "\n",
       "       [[0.10036237, 0.11604864, 0.11212707],\n",
       "        [0.09361745, 0.10945712, 0.10507537],\n",
       "        [0.0917656 , 0.10748744, 0.09568717],\n",
       "        ...,\n",
       "        [0.13436039, 0.11904762, 0.10121381],\n",
       "        [0.12524343, 0.11347873, 0.09387088],\n",
       "        [0.12726425, 0.11549953, 0.09589169]],\n",
       "\n",
       "       ...,\n",
       "\n",
       "       [[0.28748834, 0.27180207, 0.2286648 ],\n",
       "        [0.29006937, 0.2746365 , 0.23137255],\n",
       "        [0.28647906, 0.2754813 , 0.23200613],\n",
       "        ...,\n",
       "        [0.47331384, 0.3768996 , 0.35964385],\n",
       "        [0.49038288, 0.3878351 , 0.36862746],\n",
       "        [0.4901028 , 0.39851716, 0.37106618]],\n",
       "\n",
       "       [[0.29132318, 0.2756369 , 0.23249966],\n",
       "        [0.29385754, 0.27817127, 0.23503402],\n",
       "        [0.29548487, 0.280052  , 0.23678806],\n",
       "        ...,\n",
       "        [0.4110778 , 0.2579231 , 0.2644524 ],\n",
       "        [0.4630452 , 0.31462583, 0.31096435],\n",
       "        [0.50607574, 0.36994126, 0.35172066]],\n",
       "\n",
       "       [[0.3019608 , 0.27450982, 0.23529412],\n",
       "        [0.28991598, 0.2742297 , 0.23109242],\n",
       "        [0.28560978, 0.2699235 , 0.22678627],\n",
       "        ...,\n",
       "        [0.35575342, 0.17861813, 0.1939309 ],\n",
       "        [0.38635457, 0.21363214, 0.21764041],\n",
       "        [0.42203766, 0.26292962, 0.24640521]]], dtype=float32)>"
      ]
     },
     "execution_count": 21,
     "metadata": {},
     "output_type": "execute_result"
    }
   ],
   "source": [
    "result=prep(*example)\n",
    "result[0]"
   ]
  },
  {
   "cell_type": "code",
   "execution_count": 22,
   "id": "88cc13e7",
   "metadata": {},
   "outputs": [],
   "source": [
    "data=data.map(prep)\n",
    "data=data.cache()\n",
    "data=data.shuffle(buffer_size=1024)"
   ]
  },
  {
   "cell_type": "code",
   "execution_count": 23,
   "id": "44b6607c",
   "metadata": {
    "scrolled": true
   },
   "outputs": [
    {
     "data": {
      "text/plain": [
       "<ShuffleDataset element_spec=(TensorSpec(shape=(105, 105, None), dtype=tf.float32, name=None), TensorSpec(shape=(105, 105, None), dtype=tf.float32, name=None), TensorSpec(shape=(), dtype=tf.float32, name=None))>"
      ]
     },
     "execution_count": 23,
     "metadata": {},
     "output_type": "execute_result"
    }
   ],
   "source": [
    "data"
   ]
  },
  {
   "cell_type": "code",
   "execution_count": 24,
   "id": "60702de3",
   "metadata": {
    "scrolled": true
   },
   "outputs": [
    {
     "data": {
      "text/plain": [
       "(array([[[0.15284559, 0.11755147, 0.09794363],\n",
       "         [0.15872349, 0.12342938, 0.10382152],\n",
       "         [0.17487217, 0.13957806, 0.11997021],\n",
       "         ...,\n",
       "         [0.18133698, 0.14959092, 0.11252277],\n",
       "         [0.17545018, 0.14015606, 0.10486194],\n",
       "         [0.1659197 , 0.13062559, 0.09533147]],\n",
       " \n",
       "        [[0.16713351, 0.13239963, 0.11251167],\n",
       "         [0.17282914, 0.13809524, 0.11820728],\n",
       "         [0.16685341, 0.1321195 , 0.11223156],\n",
       "         ...,\n",
       "         [0.194211  , 0.15863678, 0.12334266],\n",
       "         [0.18123248, 0.14565825, 0.11036414],\n",
       "         [0.1767507 , 0.13753502, 0.1022409 ]],\n",
       " \n",
       "        [[0.15479746, 0.13089457, 0.10736516],\n",
       "         [0.1636788 , 0.1397759 , 0.1162465 ],\n",
       "         [0.15701169, 0.1331088 , 0.10957938],\n",
       "         ...,\n",
       "         [0.19409986, 0.15488417, 0.11959006],\n",
       "         [0.19557825, 0.15636256, 0.12106843],\n",
       "         [0.19355743, 0.15434174, 0.11904762]],\n",
       " \n",
       "        ...,\n",
       " \n",
       "        [[0.31213817, 0.26647985, 0.23333327],\n",
       "         [0.32717082, 0.2815125 , 0.24836595],\n",
       "         [0.33215728, 0.27688178, 0.24765679],\n",
       "         ...,\n",
       "         [0.47021472, 0.3882353 , 0.34155   ],\n",
       "         [0.4345138 , 0.36756703, 0.33133918],\n",
       "         [0.41865194, 0.36966568, 0.33370686]],\n",
       " \n",
       "        [[0.24771902, 0.19673863, 0.16536608],\n",
       "         [0.23811516, 0.17981185, 0.15210076],\n",
       "         [0.25670263, 0.19458441, 0.16713344],\n",
       "         ...,\n",
       "         [0.4813258 , 0.39934638, 0.35088703],\n",
       "         [0.43641454, 0.38095236, 0.3372549 ],\n",
       "         [0.41960785, 0.38039216, 0.34117648]],\n",
       " \n",
       "        [[0.24733673, 0.1885132 , 0.16106221],\n",
       "         [0.2510671 , 0.19168337, 0.16423239],\n",
       "         [0.26964343, 0.19942868, 0.17375174],\n",
       "         ...,\n",
       "         [0.4746965 , 0.40233424, 0.35172737],\n",
       "         [0.4439976 , 0.3887088 , 0.3472656 ],\n",
       "         [0.4171802 , 0.37917835, 0.34388423]]], dtype=float32),\n",
       " array([[[0.4683429 , 0.43304878, 0.4055978 ],\n",
       "         [0.46058425, 0.42585033, 0.39811924],\n",
       "         [0.4475479 , 0.42009693, 0.3887244 ],\n",
       "         ...,\n",
       "         [0.27201107, 0.26061988, 0.21533507],\n",
       "         [0.30326802, 0.29542488, 0.24836604],\n",
       "         [0.32194433, 0.3141012 , 0.2631208 ]],\n",
       " \n",
       "        [[0.46161798, 0.42632386, 0.39887288],\n",
       "         [0.45270106, 0.41736692, 0.38993597],\n",
       "         [0.42713085, 0.38343337, 0.35990396],\n",
       "         ...,\n",
       "         [0.2410831 , 0.2250167 , 0.18200615],\n",
       "         [0.2621849 , 0.25326133, 0.20674272],\n",
       "         [0.28384686, 0.27544352, 0.2286648 ]],\n",
       " \n",
       "        [[0.45986173, 0.42566583, 0.39766574],\n",
       "         [0.45962384, 0.41592637, 0.39239696],\n",
       "         [0.36866745, 0.30978835, 0.28980702],\n",
       "         ...,\n",
       "         [0.2438843 , 0.21643332, 0.18076572],\n",
       "         [0.2751968 , 0.25913036, 0.21966791],\n",
       "         [0.29225025, 0.27656397, 0.2369748 ]],\n",
       " \n",
       "        ...,\n",
       " \n",
       "        [[0.31820726, 0.28683472, 0.24369746],\n",
       "         [0.3172402 , 0.28415367, 0.24559158],\n",
       "         [0.30588236, 0.2784314 , 0.24511583],\n",
       "         ...,\n",
       "         [0.512325  , 0.49019608, 0.4570495 ],\n",
       "         [0.50618917, 0.4900427 , 0.45490196],\n",
       "         [0.51531285, 0.49318394, 0.46003735]],\n",
       " \n",
       "        [[0.30616245, 0.27114844, 0.23529412],\n",
       "         [0.31006402, 0.2753301 , 0.24031611],\n",
       "         [0.3021142 , 0.2746632 , 0.24329065],\n",
       "         ...,\n",
       "         [0.5120782 , 0.4846272 , 0.4459717 ],\n",
       "         [0.51658666, 0.48991597, 0.45776314],\n",
       "         [0.52278244, 0.49533147, 0.46395892]],\n",
       " \n",
       "        [[0.3130697 , 0.2777756 , 0.24248144],\n",
       "         [0.30924368, 0.27450982, 0.2394958 ],\n",
       "         [0.30643147, 0.2789805 , 0.25115603],\n",
       "         ...,\n",
       "         [0.5125005 , 0.48150152, 0.44405988],\n",
       "         [0.5212885 , 0.49383754, 0.45462185],\n",
       "         [0.51643324, 0.48898226, 0.4576097 ]]], dtype=float32),\n",
       " 1.0)"
      ]
     },
     "execution_count": 24,
     "metadata": {},
     "output_type": "execute_result"
    }
   ],
   "source": [
    "samp=data.as_numpy_iterator()\n",
    "examp=samp.next()\n",
    "examp"
   ]
  },
  {
   "cell_type": "code",
   "execution_count": null,
   "id": "aa137057",
   "metadata": {},
   "outputs": [],
   "source": [
    "def data_aug(img):\n",
    "    data = []\n",
    "    for i in range(9):\n",
    "        img = tf.image.stateless_random_brightness(img, max_delta=0.02, seed=(1,2))\n",
    "        img = tf.image.stateless_random_contrast(img, lower=0.6, upper=1, seed=(1,3))\n",
    "        # img = tf.image.stateless_random_crop(img, size=(20,20,3), seed=(1,2))\n",
    "        img = tf.image.stateless_random_flip_left_right(img, seed=(np.random.randint(100),np.random.randint(100)))\n",
    "        img = tf.image.stateless_random_jpeg_quality(img, min_jpeg_quality=90, max_jpeg_quality=100, seed=(np.random.randint(100),np.random.randint(100)))\n",
    "        img = tf.image.stateless_random_saturation(img, lower=0.9,upper=1, seed=(np.random.randint(100),np.random.randint(100)))\n",
    "            \n",
    "        data.append(img)\n",
    "    \n",
    "    return data"
   ]
  },
  {
   "cell_type": "code",
   "execution_count": 200,
   "id": "3385fc10",
   "metadata": {},
   "outputs": [],
   "source": [
    "for file_name in os.listdir(os.path.join(P_path)):\n",
    "    img_path = os.path.join(P_path, file_name)\n",
    "    img = cv2.imread(img_path)\n",
    "    augmented_images = data_aug(img) \n",
    "    \n",
    "    for image in augmented_images:\n",
    "        cv2.imwrite(os.path.join(P_path, '{}.jpg'.format(uuid.uuid1())), image.numpy())"
   ]
  },
  {
   "cell_type": "code",
   "execution_count": 201,
   "id": "d18494ca",
   "metadata": {},
   "outputs": [],
   "source": [
    "for file_name in os.listdir(os.path.join(A_path)):\n",
    "    img_path = os.path.join(A_path, file_name)\n",
    "    img = cv2.imread(img_path)\n",
    "    augmented_images = data_aug(img) \n",
    "    \n",
    "    for image in augmented_images:\n",
    "        cv2.imwrite(os.path.join(A_path, '{}.jpg'.format(uuid.uuid1())), image.numpy())"
   ]
  },
  {
   "cell_type": "code",
   "execution_count": 25,
   "id": "2d1e8292",
   "metadata": {},
   "outputs": [],
   "source": [
    "train_data=data.take(round(len(data)*0.7))\n",
    "train_data=train_data.batch(16)\n",
    "train_data=train_data.prefetch(8)"
   ]
  },
  {
   "cell_type": "code",
   "execution_count": 26,
   "id": "ca93166c",
   "metadata": {},
   "outputs": [],
   "source": [
    "test_data=data.skip(round(len(data)*.7))\n",
    "test_data=test_data.take(round(len(data)*.3))\n",
    "test_data=test_data.batch(16)\n",
    "test_data=test_data.prefetch(8)"
   ]
  },
  {
   "cell_type": "code",
   "execution_count": 27,
   "id": "93c2c6a9",
   "metadata": {},
   "outputs": [],
   "source": [
    "def m_embedding():\n",
    "    inp=Input(shape=(105,105,3),name='Inupt_name')\n",
    "    c1=Conv2D(64,(10,10),activation='relu')(inp)\n",
    "    m1=MaxPooling2D(64,(2,2),padding='same')(c1)\n",
    "    c2=Conv2D(128,(7,7),activation='relu')(m1)\n",
    "    m2=MaxPooling2D(64,(2,2),padding='same')(c2)\n",
    "    c3=Conv2D(128,(4,4),activation='relu')(m2)\n",
    "    m3=MaxPooling2D(64,(2,2),padding='same')(c3)\n",
    "    c4=Conv2D(256,(4,4),activation='relu')(m3)\n",
    "    f1=Flatten()(c4)\n",
    "    d1=Dense(4096,activation='sigmoid')(f1)\n",
    "    return Model(inputs=[inp],outputs=[d1],name='embedding')"
   ]
  },
  {
   "cell_type": "code",
   "execution_count": 28,
   "id": "caf09028",
   "metadata": {},
   "outputs": [],
   "source": [
    "embedding=m_embedding()"
   ]
  },
  {
   "cell_type": "code",
   "execution_count": 29,
   "id": "b9b2d28b",
   "metadata": {},
   "outputs": [
    {
     "name": "stdout",
     "output_type": "stream",
     "text": [
      "Model: \"embedding\"\n",
      "_________________________________________________________________\n",
      " Layer (type)                Output Shape              Param #   \n",
      "=================================================================\n",
      " Inupt_name (InputLayer)     [(None, 105, 105, 3)]     0         \n",
      "                                                                 \n",
      " conv2d_12 (Conv2D)          (None, 96, 96, 64)        19264     \n",
      "                                                                 \n",
      " max_pooling2d_6 (MaxPooling  (None, 48, 48, 64)       0         \n",
      " 2D)                                                             \n",
      "                                                                 \n",
      " conv2d_13 (Conv2D)          (None, 42, 42, 128)       401536    \n",
      "                                                                 \n",
      " max_pooling2d_7 (MaxPooling  (None, 21, 21, 128)      0         \n",
      " 2D)                                                             \n",
      "                                                                 \n",
      " conv2d_14 (Conv2D)          (None, 18, 18, 128)       262272    \n",
      "                                                                 \n",
      " max_pooling2d_8 (MaxPooling  (None, 9, 9, 128)        0         \n",
      " 2D)                                                             \n",
      "                                                                 \n",
      " conv2d_15 (Conv2D)          (None, 6, 6, 256)         524544    \n",
      "                                                                 \n",
      " flatten_2 (Flatten)         (None, 9216)              0         \n",
      "                                                                 \n",
      " dense_7 (Dense)             (None, 4096)              37752832  \n",
      "                                                                 \n",
      "=================================================================\n",
      "Total params: 38,960,448\n",
      "Trainable params: 38,960,448\n",
      "Non-trainable params: 0\n",
      "_________________________________________________________________\n"
     ]
    }
   ],
   "source": [
    "embedding.summary()"
   ]
  },
  {
   "cell_type": "code",
   "execution_count": 30,
   "id": "bd4413fe",
   "metadata": {},
   "outputs": [],
   "source": [
    "class L1Dist(Layer):\n",
    "    def __init__(self,**kwargs):\n",
    "        super().__init__()\n",
    "        \n",
    "    def call(self,input_embedding,validation_embedding):\n",
    "        return tf.math.abs(input_embedding-validation_embedding)"
   ]
  },
  {
   "cell_type": "code",
   "execution_count": 31,
   "id": "4bf41980",
   "metadata": {},
   "outputs": [],
   "source": [
    "l1=L1Dist()"
   ]
  },
  {
   "cell_type": "code",
   "execution_count": 32,
   "id": "d7106533",
   "metadata": {},
   "outputs": [],
   "source": [
    "def siamese_model():\n",
    "    input_image=Input(name='input_img',shape=(105,105,3))\n",
    "    validation_image=Input(name='validation_img',shape=(105,105,3))\n",
    "    siamese_layer=L1Dist()\n",
    "    siamese_layer._name='distance'\n",
    "    distances=siamese_layer(embedding(input_image),embedding(validation_image))\n",
    "    \n",
    "    #last sigmoid layer\n",
    "    \n",
    "    last=Dense(1,activation='sigmoid')(distances)\n",
    "    \n",
    "    #last sigmoid layer\n",
    "    \n",
    "    return Model(inputs=[input_image,validation_image],outputs=last,name='Siamese_Network')"
   ]
  },
  {
   "cell_type": "code",
   "execution_count": 33,
   "id": "460dc9ff",
   "metadata": {},
   "outputs": [],
   "source": [
    "model=siamese_model()"
   ]
  },
  {
   "cell_type": "code",
   "execution_count": 34,
   "id": "df8fb0ab",
   "metadata": {
    "scrolled": true
   },
   "outputs": [
    {
     "name": "stdout",
     "output_type": "stream",
     "text": [
      "Model: \"Siamese_Network\"\n",
      "__________________________________________________________________________________________________\n",
      " Layer (type)                   Output Shape         Param #     Connected to                     \n",
      "==================================================================================================\n",
      " input_img (InputLayer)         [(None, 105, 105, 3  0           []                               \n",
      "                                )]                                                                \n",
      "                                                                                                  \n",
      " validation_img (InputLayer)    [(None, 105, 105, 3  0           []                               \n",
      "                                )]                                                                \n",
      "                                                                                                  \n",
      " embedding (Functional)         (None, 4096)         38960448    ['input_img[0][0]',              \n",
      "                                                                  'validation_img[0][0]']         \n",
      "                                                                                                  \n",
      " distance (L1Dist)              (None, 4096)         0           ['embedding[0][0]',              \n",
      "                                                                  'embedding[1][0]']              \n",
      "                                                                                                  \n",
      " dense_8 (Dense)                (None, 1)            4097        ['distance[0][0]']               \n",
      "                                                                                                  \n",
      "==================================================================================================\n",
      "Total params: 38,964,545\n",
      "Trainable params: 38,964,545\n",
      "Non-trainable params: 0\n",
      "__________________________________________________________________________________________________\n"
     ]
    }
   ],
   "source": [
    "model.summary()"
   ]
  },
  {
   "cell_type": "code",
   "execution_count": 35,
   "id": "432b5d1c",
   "metadata": {},
   "outputs": [],
   "source": [
    "Tloss=tf.losses.BinaryCrossentropy()\n",
    "opt=tf.keras.optimizers.Adam(1e-4)"
   ]
  },
  {
   "cell_type": "code",
   "execution_count": 36,
   "id": "fdfbde64",
   "metadata": {},
   "outputs": [],
   "source": [
    "checkpoint_dir=\"C:/Users/hp/training_checkpoints\"\n",
    "checkpoint_prefix=os.path.join(checkpoint_dir,'ckpt')\n",
    "checkpoint=tf.train.Checkpoint(opt=opt,model=model)"
   ]
  },
  {
   "cell_type": "code",
   "execution_count": 37,
   "id": "12b48692",
   "metadata": {},
   "outputs": [],
   "source": [
    "test_batch=train_data.as_numpy_iterator()\n",
    "batch=test_batch.next()"
   ]
  },
  {
   "cell_type": "code",
   "execution_count": 38,
   "id": "406efa20",
   "metadata": {},
   "outputs": [],
   "source": [
    "@tf.function\n",
    "def train_step(batch):\n",
    "    with tf.GradientTape() as tape:\n",
    "        X=batch[:2]\n",
    "        y=batch[2]\n",
    "        yhat=model(X,training=True)\n",
    "        loss=Tloss(y,yhat)\n",
    "    print(loss)\n",
    "        \n",
    "    #calc gradient\n",
    "    grad=tape.gradient(loss,model.trainable_variables)\n",
    "\n",
    "    #apply the updated weights\n",
    "\n",
    "    opt.apply_gradients(zip(grad,model.trainable_variables))\n",
    "    return loss"
   ]
  },
  {
   "cell_type": "code",
   "execution_count": 39,
   "id": "5b62856c",
   "metadata": {},
   "outputs": [],
   "source": [
    "def train(data,Epochs):\n",
    "    for epoch in range(1,Epochs+1):\n",
    "        print(\"\\n Epoch{}/{}\".format(epoch,Epochs))\n",
    "        progbar=tf.keras.utils.Progbar(len(data))\n",
    "        \n",
    "        \n",
    "        for idx,batch in enumerate(data):\n",
    "            train_step(batch)\n",
    "            progbar.update(idx+1)\n",
    "        \n",
    "        if epoch%10==0:\n",
    "            checkpoint.save(file_prefix=checkpoint_prefix)"
   ]
  },
  {
   "cell_type": "code",
   "execution_count": 40,
   "id": "375c34cc",
   "metadata": {
    "scrolled": false
   },
   "outputs": [
    {
     "name": "stdout",
     "output_type": "stream",
     "text": [
      "\n",
      " Epoch1/50\n",
      "Tensor(\"binary_crossentropy/weighted_loss/value:0\", shape=(), dtype=float32)\n",
      "Tensor(\"binary_crossentropy/weighted_loss/value:0\", shape=(), dtype=float32)\n",
      "26/27 [===========================>..] - ETA: 0sTensor(\"binary_crossentropy/weighted_loss/value:0\", shape=(), dtype=float32)\n",
      "27/27 [==============================] - 41s 425ms/step\n",
      "\n",
      " Epoch2/50\n",
      "27/27 [==============================] - 10s 369ms/step\n",
      "\n",
      " Epoch3/50\n",
      "27/27 [==============================] - 10s 374ms/step\n",
      "\n",
      " Epoch4/50\n",
      "27/27 [==============================] - 10s 379ms/step\n",
      "\n",
      " Epoch5/50\n",
      "27/27 [==============================] - 10s 381ms/step\n",
      "\n",
      " Epoch6/50\n",
      "27/27 [==============================] - 10s 386ms/step\n",
      "\n",
      " Epoch7/50\n",
      "27/27 [==============================] - 10s 389ms/step\n",
      "\n",
      " Epoch8/50\n",
      "27/27 [==============================] - 10s 390ms/step\n",
      "\n",
      " Epoch9/50\n",
      "27/27 [==============================] - 10s 386ms/step\n",
      "\n",
      " Epoch10/50\n",
      "27/27 [==============================] - 10s 389ms/step\n",
      "\n",
      " Epoch11/50\n",
      "27/27 [==============================] - 10s 399ms/step\n",
      "\n",
      " Epoch12/50\n",
      "27/27 [==============================] - 10s 390ms/step\n",
      "\n",
      " Epoch13/50\n",
      "27/27 [==============================] - 10s 389ms/step\n",
      "\n",
      " Epoch14/50\n",
      "27/27 [==============================] - 10s 392ms/step\n",
      "\n",
      " Epoch15/50\n",
      "27/27 [==============================] - 10s 392ms/step\n",
      "\n",
      " Epoch16/50\n",
      "27/27 [==============================] - 10s 396ms/step\n",
      "\n",
      " Epoch17/50\n",
      "27/27 [==============================] - 10s 390ms/step\n",
      "\n",
      " Epoch18/50\n",
      "27/27 [==============================] - 10s 388ms/step\n",
      "\n",
      " Epoch19/50\n",
      "27/27 [==============================] - 10s 390ms/step\n",
      "\n",
      " Epoch20/50\n",
      "27/27 [==============================] - 10s 390ms/step\n",
      "\n",
      " Epoch21/50\n",
      "27/27 [==============================] - 10s 396ms/step\n",
      "\n",
      " Epoch22/50\n",
      "27/27 [==============================] - 10s 400ms/step\n",
      "\n",
      " Epoch23/50\n",
      "27/27 [==============================] - 10s 390ms/step\n",
      "\n",
      " Epoch24/50\n",
      "27/27 [==============================] - 10s 393ms/step\n",
      "\n",
      " Epoch25/50\n",
      "27/27 [==============================] - 10s 393ms/step\n",
      "\n",
      " Epoch26/50\n",
      "27/27 [==============================] - 10s 392ms/step\n",
      "\n",
      " Epoch27/50\n",
      "27/27 [==============================] - 10s 392ms/step\n",
      "\n",
      " Epoch28/50\n",
      "27/27 [==============================] - 10s 392ms/step\n",
      "\n",
      " Epoch29/50\n",
      "27/27 [==============================] - 10s 394ms/step\n",
      "\n",
      " Epoch30/50\n",
      "27/27 [==============================] - 11s 402ms/step\n",
      "\n",
      " Epoch31/50\n",
      "27/27 [==============================] - 11s 401ms/step\n",
      "\n",
      " Epoch32/50\n",
      "27/27 [==============================] - 10s 391ms/step\n",
      "\n",
      " Epoch33/50\n",
      "27/27 [==============================] - 10s 394ms/step\n",
      "\n",
      " Epoch34/50\n",
      "27/27 [==============================] - 10s 392ms/step\n",
      "\n",
      " Epoch35/50\n",
      "27/27 [==============================] - 10s 394ms/step\n",
      "\n",
      " Epoch36/50\n",
      "27/27 [==============================] - 10s 392ms/step\n",
      "\n",
      " Epoch37/50\n",
      "27/27 [==============================] - 10s 392ms/step\n",
      "\n",
      " Epoch38/50\n",
      "27/27 [==============================] - 10s 393ms/step\n",
      "\n",
      " Epoch39/50\n",
      "27/27 [==============================] - 10s 393ms/step\n",
      "\n",
      " Epoch40/50\n",
      "27/27 [==============================] - 10s 399ms/step\n",
      "\n",
      " Epoch41/50\n",
      "27/27 [==============================] - 10s 397ms/step\n",
      "\n",
      " Epoch42/50\n",
      "27/27 [==============================] - 10s 399ms/step\n",
      "\n",
      " Epoch43/50\n",
      "27/27 [==============================] - 10s 389ms/step\n",
      "\n",
      " Epoch44/50\n",
      "27/27 [==============================] - 10s 390ms/step\n",
      "\n",
      " Epoch45/50\n",
      "27/27 [==============================] - 10s 390ms/step\n",
      "\n",
      " Epoch46/50\n",
      "27/27 [==============================] - 10s 391ms/step\n",
      "\n",
      " Epoch47/50\n",
      "27/27 [==============================] - 10s 392ms/step\n",
      "\n",
      " Epoch48/50\n",
      "27/27 [==============================] - 10s 392ms/step\n",
      "\n",
      " Epoch49/50\n",
      "27/27 [==============================] - 10s 393ms/step\n",
      "\n",
      " Epoch50/50\n",
      "27/27 [==============================] - 10s 395ms/step\n"
     ]
    }
   ],
   "source": [
    "Epochs=50\n",
    "train(train_data,Epochs)"
   ]
  },
  {
   "cell_type": "code",
   "execution_count": 41,
   "id": "9b900f1f",
   "metadata": {},
   "outputs": [],
   "source": [
    "test_input,test_val,y_true=test_data.as_numpy_iterator().next()"
   ]
  },
  {
   "cell_type": "code",
   "execution_count": 42,
   "id": "41b5b793",
   "metadata": {},
   "outputs": [],
   "source": [
    "test_var=test_data.as_numpy_iterator().next"
   ]
  },
  {
   "cell_type": "code",
   "execution_count": 43,
   "id": "31a5ccf9",
   "metadata": {
    "scrolled": true
   },
   "outputs": [
    {
     "data": {
      "text/plain": [
       "<bound method _NumpyIterator.next of <tensorflow.python.data.ops.dataset_ops._NumpyIterator object at 0x0000020A2D37E590>>"
      ]
     },
     "execution_count": 43,
     "metadata": {},
     "output_type": "execute_result"
    }
   ],
   "source": [
    "test_var"
   ]
  },
  {
   "cell_type": "code",
   "execution_count": 44,
   "id": "ce16da10",
   "metadata": {
    "scrolled": true
   },
   "outputs": [
    {
     "data": {
      "text/plain": [
       "<matplotlib.image.AxesImage at 0x20a2d3b0bb0>"
      ]
     },
     "execution_count": 44,
     "metadata": {},
     "output_type": "execute_result"
    },
    {
     "data": {
      "image/png": "[encoded data removed]",
      "text/plain": [
       "<Figure size 640x480 with 1 Axes>"
      ]
     },
     "metadata": {},
     "output_type": "display_data"
    }
   ],
   "source": [
    "plt.imshow(test_input[3])"
   ]
  },
  {
   "cell_type": "code",
   "execution_count": 45,
   "id": "8c22be3e",
   "metadata": {
    "scrolled": true
   },
   "outputs": [
    {
     "data": {
      "text/plain": [
       "<matplotlib.image.AxesImage at 0x20a2e8c8940>"
      ]
     },
     "execution_count": 45,
     "metadata": {},
     "output_type": "execute_result"
    },
    {
     "data": {
      "image/png": "[encoded data removed]",
      "text/plain": [
       "<Figure size 640x480 with 1 Axes>"
      ]
     },
     "metadata": {},
     "output_type": "display_data"
    }
   ],
   "source": [
    "plt.imshow(test_val[3])"
   ]
  },
  {
   "cell_type": "code",
   "execution_count": 46,
   "id": "7581cca2",
   "metadata": {},
   "outputs": [
    {
     "data": {
      "text/plain": [
       "1.0"
      ]
     },
     "execution_count": 46,
     "metadata": {},
     "output_type": "execute_result"
    }
   ],
   "source": [
    "y_true[3]"
   ]
  },
  {
   "cell_type": "code",
   "execution_count": 47,
   "id": "570f7ad3",
   "metadata": {
    "scrolled": true
   },
   "outputs": [
    {
     "name": "stdout",
     "output_type": "stream",
     "text": [
      "1/1 [==============================] - 1s 978ms/step\n",
      "[[1.0000000e+00]\n",
      " [8.7162526e-08]\n",
      " [9.9999988e-01]\n",
      " [9.9997330e-01]\n",
      " [8.5233535e-13]\n",
      " [9.9999976e-01]\n",
      " [1.0291364e-09]\n",
      " [1.6741782e-05]\n",
      " [1.1089454e-06]\n",
      " [7.7354292e-05]\n",
      " [1.4108687e-08]\n",
      " [1.7922007e-08]\n",
      " [1.2026140e-12]\n",
      " [2.7169993e-13]\n",
      " [4.4108190e-05]\n",
      " [2.2997089e-08]]\n"
     ]
    }
   ],
   "source": [
    "predictions=model.predict([test_input,test_val])\n",
    "print(predictions)"
   ]
  },
  {
   "cell_type": "code",
   "execution_count": 48,
   "id": "61276425",
   "metadata": {},
   "outputs": [
    {
     "data": {
      "text/plain": [
       "[1, 0, 1, 1, 0, 1, 0, 0, 0, 0, 0, 0, 0, 0, 0, 0]"
      ]
     },
     "execution_count": 48,
     "metadata": {},
     "output_type": "execute_result"
    }
   ],
   "source": [
    "[1 if prediction>0.5 else 0 for prediction in predictions]"
   ]
  },
  {
   "cell_type": "code",
   "execution_count": 49,
   "id": "fcfa6238",
   "metadata": {},
   "outputs": [
    {
     "data": {
      "text/plain": [
       "array([1., 0., 1., 1., 0., 1., 0., 0., 0., 0., 0., 0., 0., 0., 0., 0.],\n",
       "      dtype=float32)"
      ]
     },
     "execution_count": 49,
     "metadata": {},
     "output_type": "execute_result"
    }
   ],
   "source": [
    "y_true"
   ]
  },
  {
   "cell_type": "code",
   "execution_count": 50,
   "id": "b01bbb18",
   "metadata": {},
   "outputs": [
    {
     "data": {
      "text/plain": [
       "1.0"
      ]
     },
     "execution_count": 50,
     "metadata": {},
     "output_type": "execute_result"
    }
   ],
   "source": [
    "m=Recall()\n",
    "m.update_state(y_true,predictions)\n",
    "\n",
    "m.result().numpy()"
   ]
  },
  {
   "cell_type": "code",
   "execution_count": 51,
   "id": "e4f7af20",
   "metadata": {},
   "outputs": [
    {
     "data": {
      "text/plain": [
       "1.0"
      ]
     },
     "execution_count": 51,
     "metadata": {},
     "output_type": "execute_result"
    }
   ],
   "source": [
    "m=Precision()\n",
    "m.update_state(y_true,predictions)\n",
    "m.result().numpy()"
   ]
  },
  {
   "cell_type": "code",
   "execution_count": 52,
   "id": "d09c7a92",
   "metadata": {},
   "outputs": [
    {
     "name": "stdout",
     "output_type": "stream",
     "text": [
      "1/1 [==============================] - 0s 85ms/step\n",
      "1/1 [==============================] - 0s 90ms/step\n",
      "1/1 [==============================] - 0s 102ms/step\n",
      "1/1 [==============================] - 0s 92ms/step\n",
      "1/1 [==============================] - 0s 94ms/step\n",
      "1/1 [==============================] - 0s 117ms/step\n",
      "1/1 [==============================] - 0s 85ms/step\n",
      "1/1 [==============================] - 0s 79ms/step\n",
      "1/1 [==============================] - 0s 80ms/step\n",
      "1/1 [==============================] - 0s 93ms/step\n",
      "1/1 [==============================] - 0s 101ms/step\n",
      "1/1 [==============================] - 0s 116ms/step\n",
      "1.0 1.0\n"
     ]
    }
   ],
   "source": [
    "r = Recall()\n",
    "p = Precision()\n",
    "\n",
    "for test_input, test_val, y_true in test_data.as_numpy_iterator():\n",
    "    yhat = model.predict([test_input, test_val])\n",
    "    r.update_state(y_true, yhat)\n",
    "    p.update_state(y_true,yhat) \n",
    "\n",
    "print(r.result().numpy(), p.result().numpy())"
   ]
  },
  {
   "cell_type": "code",
   "execution_count": 53,
   "id": "da9af2c4",
   "metadata": {
    "scrolled": true
   },
   "outputs": [
    {
     "name": "stdout",
     "output_type": "stream",
     "text": [
      "WARNING:tensorflow:Compiled the loaded model, but the compiled metrics have yet to be built. `model.compile_metrics` will be empty until you train or evaluate the model.\n"
     ]
    },
    {
     "data": {
      "text/plain": [
       "__main__.L1Dist"
      ]
     },
     "execution_count": 53,
     "metadata": {},
     "output_type": "execute_result"
    }
   ],
   "source": [
    "model.save('face_Weight_Final.h5')\n",
    "L1Dist"
   ]
  },
  {
   "cell_type": "code",
   "execution_count": 56,
   "id": "92ebf1e5",
   "metadata": {
    "scrolled": true
   },
   "outputs": [
    {
     "name": "stdout",
     "output_type": "stream",
     "text": [
      "1/1 [==============================] - 1s 541ms/step\n",
      "1/1 [==============================] - 0s 331ms/step\n",
      "1/1 [==============================] - 0s 295ms/step\n",
      "1/1 [==============================] - 0s 231ms/step\n",
      "1/1 [==============================] - 0s 225ms/step\n",
      "1/1 [==============================] - 0s 245ms/step\n",
      "1/1 [==============================] - 0s 210ms/step\n",
      "1/1 [==============================] - 0s 190ms/step\n",
      "1/1 [==============================] - 0s 205ms/step\n",
      "1/1 [==============================] - 0s 230ms/step\n",
      "1/1 [==============================] - 0s 266ms/step\n",
      "3/3 [==============================] - 0s 62ms/step\n",
      "1/1 [==============================] - 0s 215ms/step\n"
     ]
    }
   ],
   "source": [
    "input_dir=\"C:/Users/hp/application_data/input_image\"\n",
    "for file in os.listdir(input_dir):\n",
    "    pic_dir=os.path.join(input_dir,file)\n",
    "    pic=cv2.imread(pic_dir)\n",
    "    face_pic=exface(pic)\n",
    "    cv2.imwrite('C:/Users/hp/application_data/input_image/input_image.jpg',face_pic)\n",
    "    os.remove(pic_dir)"
   ]
  },
  {
   "cell_type": "code",
   "execution_count": 57,
   "id": "c06c5047",
   "metadata": {},
   "outputs": [],
   "source": [
    "def verify(model, detection_threshold, verification_threshold):\n",
    "    # Build results array\n",
    "    results = []\n",
    "    for image in os.listdir(os.path.join('application_data', 'verification_images')):\n",
    "        input_img = preprocess(os.path.join('application_data', 'input_image', 'input_image.jpg'))\n",
    "        validation_img = preprocess(os.path.join('application_data', 'verification_images', image))\n",
    "        \n",
    "        # Make Predictions \n",
    "        result = model.predict(list(np.expand_dims([input_img, validation_img], axis=1)))\n",
    "        results.append(result)\n",
    "    \n",
    "    # Detection Threshold: Metric above which a prediciton is considered positive \n",
    "    detection = np.sum(np.array(results) > detection_threshold)\n",
    "    \n",
    "    # Verification Threshold: Proportion of positive predictions / total positive samples \n",
    "    verification = detection / len(os.listdir(os.path.join('application_data', 'verification_images'))) \n",
    "    verified = verification > verification_threshold\n",
    "    \n",
    "    return results, verified"
   ]
  },
  {
   "cell_type": "code",
   "execution_count": null,
   "id": "7eb0fe62",
   "metadata": {},
   "outputs": [],
   "source": [
    "ver_dir=\"C:/Users/hp/application_data/verification_images\"\n",
    "cap=cv2.VideoCapture(0)\n",
    "while cap.isOpened():\n",
    "    ret,frame=cap.read()\n",
    "    frame=exface(frame)\n",
    "    cv2.imshow(\"Verification Image Collection\",frame)\n",
    "    if cv2.waitKey(1) & 0XFF==ord('c'):\n",
    "        imgname=os.path.join(ver_dir,'{}.jpg'.format(uuid.uuid1()))\n",
    "        cv2.imwrite(imgname,frame)\n",
    "    if cv2.waitKey(1) & 0XFF==ord('q'):\n",
    "        break\n",
    "cap.release()\n",
    "cv2.destroyAllWindows()\n",
    "    "
   ]
  },
  {
   "cell_type": "code",
   "execution_count": 58,
   "id": "a34ff5cf",
   "metadata": {
    "scrolled": true
   },
   "outputs": [
    {
     "name": "stdout",
     "output_type": "stream",
     "text": [
      "1/1 [==============================] - 1s 710ms/step\n",
      "1/1 [==============================] - 0s 84ms/step\n",
      "1/1 [==============================] - 0s 105ms/step\n",
      "1/1 [==============================] - 0s 63ms/step\n",
      "1/1 [==============================] - 0s 63ms/step\n",
      "1/1 [==============================] - 0s 79ms/step\n",
      "1/1 [==============================] - 0s 63ms/step\n",
      "1/1 [==============================] - 0s 63ms/step\n",
      "1/1 [==============================] - 0s 79ms/step\n",
      "1/1 [==============================] - 0s 79ms/step\n",
      "1/1 [==============================] - 0s 63ms/step\n",
      "1/1 [==============================] - 0s 63ms/step\n",
      "1/1 [==============================] - 0s 98ms/step\n",
      "1/1 [==============================] - 0s 62ms/step\n",
      "1/1 [==============================] - 0s 79ms/step\n",
      "1/1 [==============================] - 0s 78ms/step\n",
      "1/1 [==============================] - 0s 63ms/step\n",
      "1/1 [==============================] - 0s 72ms/step\n",
      "1/1 [==============================] - 0s 79ms/step\n",
      "1/1 [==============================] - 0s 63ms/step\n",
      "1/1 [==============================] - 0s 63ms/step\n",
      "1/1 [==============================] - 0s 79ms/step\n",
      "1/1 [==============================] - 0s 63ms/step\n",
      "1/1 [==============================] - 0s 68ms/step\n",
      "1/1 [==============================] - 0s 77ms/step\n",
      "1/1 [==============================] - 0s 79ms/step\n",
      "1/1 [==============================] - 0s 78ms/step\n",
      "1/1 [==============================] - 0s 78ms/step\n",
      "1/1 [==============================] - 0s 78ms/step\n",
      "1/1 [==============================] - 0s 78ms/step\n",
      "1/1 [==============================] - 0s 78ms/step\n",
      "1/1 [==============================] - 0s 79ms/step\n",
      "1/1 [==============================] - 0s 79ms/step\n",
      "1/1 [==============================] - 0s 95ms/step\n",
      "1/1 [==============================] - 0s 78ms/step\n",
      "[array([[0.23369981]], dtype=float32), array([[0.00133835]], dtype=float32), array([[0.00071683]], dtype=float32), array([[0.00030025]], dtype=float32), array([[4.280143e-06]], dtype=float32), array([[0.00030782]], dtype=float32), array([[1.8651888e-05]], dtype=float32), array([[0.00019786]], dtype=float32), array([[0.00097682]], dtype=float32), array([[0.00032189]], dtype=float32), array([[0.00046001]], dtype=float32), array([[0.00223969]], dtype=float32), array([[1.6890814e-05]], dtype=float32), array([[0.00804195]], dtype=float32), array([[0.00386726]], dtype=float32), array([[3.3724432e-06]], dtype=float32), array([[0.7869946]], dtype=float32), array([[0.00152926]], dtype=float32), array([[0.98736054]], dtype=float32), array([[0.00183633]], dtype=float32), array([[0.0001394]], dtype=float32), array([[0.9836624]], dtype=float32), array([[0.00063294]], dtype=float32), array([[2.7746226e-05]], dtype=float32), array([[8.03513e-05]], dtype=float32), array([[0.7945751]], dtype=float32), array([[0.0001146]], dtype=float32), array([[0.00841242]], dtype=float32), array([[0.00010264]], dtype=float32), array([[0.1832339]], dtype=float32), array([[0.00042127]], dtype=float32), array([[0.00020704]], dtype=float32), array([[9.272206e-05]], dtype=float32), array([[0.00017789]], dtype=float32), array([[0.00024078]], dtype=float32)]\n"
     ]
    }
   ],
   "source": [
    "results,verified=verify(model,0.5,0.5)\n",
    "print(results)"
   ]
  },
  {
   "cell_type": "code",
   "execution_count": null,
   "id": "cbfadd7e",
   "metadata": {},
   "outputs": [],
   "source": []
  },
  {
   "cell_type": "code",
   "execution_count": 59,
   "id": "4f6578bc",
   "metadata": {
    "scrolled": true
   },
   "outputs": [
    {
     "name": "stdout",
     "output_type": "stream",
     "text": [
      "4\n"
     ]
    }
   ],
   "source": [
    "li=[1 if prediction>0.5 else 0 for prediction in results]\n",
    "print(li.count(1))"
   ]
  },
  {
   "cell_type": "code",
   "execution_count": 61,
   "id": "8bc53a93",
   "metadata": {},
   "outputs": [
    {
     "name": "stdout",
     "output_type": "stream",
     "text": [
      "1/1 [==============================] - 0s 51ms/step\n",
      "[[0.89331496]]\n"
     ]
    }
   ],
   "source": [
    "inpu=\"C:/Users/hp/Testing/1.jpg\"\n",
    "ver=\"C:/Users/hp/Testing/2.jpg\"\n",
    "input_img = preprocess(inpu)\n",
    "validation_img = preprocess(ver)\n",
    "result = model.predict(list(np.expand_dims([input_img, validation_img], axis=1)))\n",
    "print(result)"
   ]
  }
 ],
 "metadata": {
  "kernelspec": {
   "display_name": "Python 3 (ipykernel)",
   "language": "python",
   "name": "python3"
  },
  "language_info": {
   "codemirror_mode": {
    "name": "ipython",
    "version": 3
   },
   "file_extension": ".py",
   "mimetype": "text/x-python",
   "name": "python",
   "nbconvert_exporter": "python",
   "pygments_lexer": "ipython3",
   "version": "3.10.4"
  }
 },
 "nbformat": 4,
 "nbformat_minor": 5
}
